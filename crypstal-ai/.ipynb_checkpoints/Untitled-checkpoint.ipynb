{
 "cells": [
  {
   "cell_type": "code",
   "execution_count": 8,
   "metadata": {},
   "outputs": [],
   "source": [
    "import pymysql\n",
    "\n",
    "conn = pymysql.connect(host='35.201.207.75',\n",
    "                       user='root',\n",
    "                       password='crypstal-pw',\n",
    "                       db='crypstal')"
   ]
  },
  {
   "cell_type": "code",
   "execution_count": 25,
   "metadata": {},
   "outputs": [],
   "source": [
    "with conn.cursor() as curs:\n",
    "    sql = \"select * FROM TestApp_bithumb_btc_1m limit 100\"\n",
    "    curs.execute(sql)\n",
    "    rs = curs.fetchall()\n",
    "        \n",
    "    for row in rs:\n",
    "        print(row)"
   ]
  },
  {
   "cell_type": "code",
   "execution_count": null,
   "metadata": {},
   "outputs": [],
   "source": []
  },
  {
   "cell_type": "code",
   "execution_count": null,
   "metadata": {},
   "outputs": [],
   "source": []
  },
  {
   "cell_type": "code",
   "execution_count": 22,
   "metadata": {},
   "outputs": [],
   "source": [
    "import datetime \n",
    "import time\n",
    "import urllib.request"
   ]
  },
  {
   "cell_type": "code",
   "execution_count": 23,
   "metadata": {},
   "outputs": [],
   "source": [
    "def preprocess(k):\n",
    "    kk = k.split(',')\n",
    "    date = kk[0][12:31]\n",
    "    high = float(kk[1].split(':')[1])\n",
    "    low = float(kk[2].split(':')[1])\n",
    "    open = float(kk[3].split(':')[1])\n",
    "    close = float(kk[4].split(':')[1])\n",
    "    volume = float(kk[5].split(':')[1][:-1])\n",
    "    return [date, high, low, open, close, volume]"
   ]
  },
  {
   "cell_type": "code",
   "execution_count": null,
   "metadata": {},
   "outputs": [
    {
     "name": "stdout",
     "output_type": "stream",
     "text": [
      "b'[{\"time\":\"2018-11-11 17:07:00\",\"high\":7255000.0,\"low\":7255000.0,\"open\":7255000.0,\"close\":7255000.0,\"volume\":0.0034}]'\n",
      "b'[{\"time\":\"2018-11-11 17:07:00\",\"high\":7255000.0,\"low\":7255000.0,\"open\":7255000.0,\"close\":7255000.0,\"volume\":0.0034}]'\n"
     ]
    }
   ],
   "source": [
    "while(True):\n",
    "    date = datetime.datetime.now()\n",
    "    date1 = date - datetime.timedelta(minutes=1) - datetime.timedelta(days=1)\n",
    "#    date2 = date - datetime.timedelta(minutes=2) - datetime.timedelta(days=1)\n",
    "    \n",
    "    date1 = date1.strftime(\"%Y-%m-%d %H:%M:00\")\n",
    "#    date2 = date2.strftime(\"%Y-%m-%d %H:%M:00\")\n",
    "    a = urllib.request.urlopen(\n",
    "        \"http://35.200.62.52:8000/candle?from={}%20{}&to={}%20{}&coin=BTC&period=1m&exchange=Bithumb\".format(\n",
    "            date1.split(' ')[0], date1.split(' ')[1],date1.split(' ')[0],date1.split(' ')[1]))\n",
    "    print(a.read())\n",
    "    #print(preprocess(str(a.read())))\n",
    "\n",
    "    time.sleep(10)\n"
   ]
  },
  {
   "cell_type": "code",
   "execution_count": 34,
   "metadata": {},
   "outputs": [],
   "source": [
    "a = urllib.request.urlopen(\n",
    "        \"http://35.200.62.52:8000/candle?from={}%20{}&to={}%20{}&coin=BTC&period=1m&exchange=Bithumb\".format(\n",
    "            date1.split(' ')[0], date1.split(' ')[1],date1.split(' ')[0],date1.split(' ')[1]))\n",
    "k = str(a.read())"
   ]
  },
  {
   "cell_type": "code",
   "execution_count": 38,
   "metadata": {},
   "outputs": [
    {
     "data": {
      "text/plain": [
       "'7257000.0'"
      ]
     },
     "execution_count": 38,
     "metadata": {},
     "output_type": "execute_result"
    }
   ],
   "source": [
    "k.split(',')[1].split(\":\")[1]"
   ]
  },
  {
   "cell_type": "code",
   "execution_count": null,
   "metadata": {},
   "outputs": [],
   "source": []
  }
 ],
 "metadata": {
  "kernelspec": {
   "display_name": "Python 3",
   "language": "python",
   "name": "python3"
  },
  "language_info": {
   "codemirror_mode": {
    "name": "ipython",
    "version": 3
   },
   "file_extension": ".py",
   "mimetype": "text/x-python",
   "name": "python",
   "nbconvert_exporter": "python",
   "pygments_lexer": "ipython3",
   "version": "3.6.4"
  }
 },
 "nbformat": 4,
 "nbformat_minor": 2
}
